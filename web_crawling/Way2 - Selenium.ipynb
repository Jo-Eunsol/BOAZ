{
 "cells": [
  {
   "cell_type": "markdown",
   "metadata": {},
   "source": [
    "# 2번째 방법 -  Selenium을 이용한 웹크롤링\n",
    "\n",
    "Selenium 공식 홈페이지 : https://www.seleniumhq.org/\n",
    "Google Chrome Driver : https://chromedriver.storage.googleapis.com/index.html?path=2.45/"
   ]
  },
  {
   "cell_type": "markdown",
   "metadata": {},
   "source": [
    "## Selenium 설치하기\n",
    "```\n",
    "pip install selenium \n",
    "conda install selenium # 아나콘다 사용자일 경우\n",
    "```"
   ]
  },
  {
   "cell_type": "markdown",
   "metadata": {},
   "source": [
    "## 크롤링하기 위한 준비"
   ]
  },
  {
   "cell_type": "code",
   "execution_count": 1,
   "metadata": {},
   "outputs": [],
   "source": [
    "import numpy as np # pandas 라이브러리 의존성 때문에\n",
    "import pandas as pd # 가져온 데이터를 가공하기 위해\n",
    "from tqdm import tqdm_notebook # 진행률을 표시하기 위해\n",
    "from selenium import webdriver as wd # Chrome 웹드라이버 준비\n",
    "import time # selenium은 sleep을 걸어야해서\n",
    "import urllib"
   ]
  },
  {
   "cell_type": "code",
   "execution_count": null,
   "metadata": {},
   "outputs": [],
   "source": [
    "# Selenium 드라이버\n",
    "driver = wd.Chrome('../tool/chromedriver')\n",
    "\n",
    "# 타켓 사이트\n",
    "target_site = 'http://www.opinet.co.kr/searRgSelect.do'\n",
    "\n",
    "# 접속\n",
    "driver.get(target_site)"
   ]
  },
  {
   "cell_type": "code",
   "execution_count": null,
   "metadata": {},
   "outputs": [],
   "source": []
  }
 ],
 "metadata": {
  "kernelspec": {
   "display_name": "Python 3",
   "language": "python",
   "name": "python3"
  },
  "language_info": {
   "codemirror_mode": {
    "name": "ipython",
    "version": 3
   },
   "file_extension": ".py",
   "mimetype": "text/x-python",
   "name": "python",
   "nbconvert_exporter": "python",
   "pygments_lexer": "ipython3",
   "version": "3.6.5"
  }
 },
 "nbformat": 4,
 "nbformat_minor": 2
}
