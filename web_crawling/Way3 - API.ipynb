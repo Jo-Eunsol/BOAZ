{
 "cells": [
  {
   "cell_type": "markdown",
   "metadata": {},
   "source": [
    "# Web Crawling\n",
    "1. Beautiful Soup\n",
    "2. Selenium\n",
    "3. **using API**"
   ]
  },
  {
   "cell_type": "markdown",
   "metadata": {},
   "source": [
    "# 3번째 방법 - API\n",
    "\n",
    "네이버 개발자 센터 : https://developers.naver.com/main\n",
    "\n",
    "네이버 개발자 센터에서 발급하는 네이버 API를 통해서 **검색**을 해보도록 하자.\n",
    "\n",
    "## OpenAPI 신청방법\n",
    "\n",
    "https://developers.naver.com/products/login/api\n",
    "\n",
    "\n",
    "## 참고\n",
    "- https://hnark.tistory.com/135\n",
    "- https://www.fun-coding.org/crawl_basic3.html"
   ]
  },
  {
   "cell_type": "code",
   "execution_count": 10,
   "metadata": {},
   "outputs": [],
   "source": [
    "import requests\n",
    " \n",
    "client_key = 'f8AenxvdOUEMwCGLoMls' # 미리 API키를 신청받아야함\n",
    "client_secret = 'VzouDoww4g'"
   ]
  },
  {
   "cell_type": "code",
   "execution_count": 19,
   "metadata": {},
   "outputs": [],
   "source": [
    "keyword = 'BOAZ,빅데이터'"
   ]
  },
  {
   "cell_type": "code",
   "execution_count": 20,
   "metadata": {},
   "outputs": [],
   "source": [
    "# 별도 quote_plus() 메서드등 처리할 필요 없음. requests 객체가 알아서 해줌\n",
    "naver_url = 'https://openapi.naver.com/v1/search/news.json?query=%s'%keyword\n",
    " \n",
    "header_params = {\"X-Naver-Client-Id\":client_key, \"X-Naver-Client-Secret\":client_secret}\n",
    "# headers= header_params 는 header 변경시에만 필요하고, 그렇지 않으면, requests.get(원하는 URL) 만 해도 됨\n",
    "response = requests.get(naver_url, headers = header_params)"
   ]
  },
  {
   "cell_type": "code",
   "execution_count": 21,
   "metadata": {},
   "outputs": [
    {
     "name": "stdout",
     "output_type": "stream",
     "text": [
      "{'lastBuildDate': 'Sat, 16 Mar 2019 20:19:51 +0900', 'total': 8, 'start': 1, 'display': 8, 'items': [{'title': '서울시, 5개 실행 공약 17일까지 시민 아이디어 공모', 'originallink': 'http://www.seouland.com/arti/society/society_general/3549.html', 'link': 'https://news.naver.com/main/read.nhn?mode=LSD&mid=sec&sid1=102&oid=028&aid=0002413748', 'description': '<b>데이터</b>를 정제하고 분석하는 작업에는 <b>빅데이터</b> 연합 동아리(<b>BOAZ</b>)가 참여하는 등 시민사회와 함께 과제를 발굴하고, 민·관·학 협업으로 프로젝트를 수행했다. 분석 결과는 종로의 자전거 차로 설치와 자전거... ', 'pubDate': 'Thu, 14 Jun 2018 15:13:00 +0900'}, {'title': '<b>빅데이터</b>와 6개월 씨름, 서울시에 첫 정책 제안', 'originallink': 'http://www.seouland.com/arti/society/society_general/2557.html', 'link': 'https://news.naver.com/main/read.nhn?mode=LSD&mid=sec&sid1=102&oid=028&aid=0002380609', 'description': '[한겨레] [커버스토리]신도원·이은지씨 동아리 회원 ‘과속구간 파악해 사고방지 제안’ 국내 최초의 대학생 <b>빅데이터</b> 연합동아리인 ‘보아즈’(<b>BOAZ</b>) 회원인 신도원(사진 왼쪽)씨와 이은지씨가 지난 9월1일 서울... ', 'pubDate': 'Thu, 21 Sep 2017 15:13:00 +0900'}, {'title': '“요즘 대세 <b>빅데이터</b> 분석”…대학생 연합동아리 ‘<b>BOAZ</b>’', 'originallink': 'http://www.jobnjoy.com/portal/joy/correspondent_view.jsp?nidx=216360&depth1=2&depth2=1&depth3=1', 'link': 'http://www.jobnjoy.com/portal/joy/correspondent_view.jsp?nidx=216360&depth1=2&depth2=1&depth3=1', 'description': '<b>BOAZ</b>의 <b>데이터</b>시각화 세션에서 이 부분을 채울 수 있을 거로 생각했다. 동아리 활동으로 얻은 것은? 심재인 : 새로운 대상을 해석하는 눈을 얻었다. 사람들이 접하는 다양한 결과물 뒤엔 누군가의 치열한 고민이 있다는... ', 'pubDate': 'Fri, 16 Jun 2017 16:33:00 +0900'}, {'title': '코이스라 시드 파트너스, 사이버 보안 전문 액셀러레이터로 탈바꿈', 'originallink': 'http://www.mt.co.kr/view/mtview.php?type=1&no=2016062315494779406&outlink=1', 'link': 'https://news.naver.com/main/read.nhn?mode=LSD&mid=sec&sid1=105&oid=008&aid=0003700525', 'description': '스마트폰, 스마트카, 스마트시티, IoT, <b>빅데이터</b> 등 다양한 분야들이 발전하면서 사이버 보안의 중요성이... 미국 최대 통신회사 AT&amp;T의 사이버 안전 혁신(Cyber Security innovation) 코치로 활동하는 보아즈 캔토르(<b>Boaz</b>... ', 'pubDate': 'Fri, 24 Jun 2016 07:56:00 +0900'}, {'title': '<b>빅데이터</b> 대학생 동아리 ‘<b>BOAZ</b>’, 씨이랩 방문', 'originallink': 'http://www.cctvnews.co.kr/atl/view.asp?a_id=17315', 'link': 'http://www.cctvnews.co.kr/atl/view.asp?a_id=17315', 'description': '<b>BOAZ</b>는 2013년 <b>빅데이터</b> 시대의 인재가 되고자 하는 학생들의 요구에 따라 연세대 컴퓨터과학과 이원석 교수의 주도로 창설된 수도권지역 연합 동아리다. 이번 방문은 동아리의 창설 취지에 공감한 씨이랩과 <b>빅데이터</b>... ', 'pubDate': 'Wed, 21 Jan 2015 19:47:00 +0900'}, {'title': '<b>빅데이터</b> 대학생 연합동아리, 씨이랩 방문', 'originallink': 'http://www.edaily.co.kr/news/newspath.asp?newsid=03339046609240016', 'link': 'https://news.naver.com/main/read.nhn?mode=LSD&mid=sec&sid1=105&oid=018&aid=0003166010', 'description': '<b>BOAZ</b>는 2013년 <b>빅데이터</b> 시대의 인재가 되고자 하는 학생들의 요구에 따라연세대 컴퓨터과학과 이원석 교수의 주도로 창설된 수도권지역 연합 동아리다. <b>빅데이터</b>연합동아리 <b>BOAZ</b>가 씨이랩 방문일정을 마친 후... ', 'pubDate': 'Wed, 21 Jan 2015 17:50:00 +0900'}, {'title': '&quot;<b>데이터</b> 분석은 즐겁지만, <b>빅데이터</b> 공부하기 쉽지않다&quot;', 'originallink': 'http://www.itdaily.kr/news/articleView.html?idxno=52916', 'link': 'http://www.itdaily.kr/news/articleView.html?idxno=52916', 'description': '[아이티데일리] <b>빅데이터</b>전문가협의회(의장 장동인)가 매달 진행하는 최근 미트업 행사에 대학생 <b>빅데이터</b> 동아리인 보아즈(<b>BOAZ</b>) 회원들이 참가했다. 이날 미트업에서는 보아즈의 캐글 경연 참가 및 시각화를 저상버스에... ', 'pubDate': 'Mon, 16 Jun 2014 15:46:00 +0900'}, {'title': '공공<b>데이터</b>의 시각화, 사회문제를 해결하는 첫 단추', 'originallink': 'http://www.hankyung.com/news/app/newsview.php?aid=201405239484v', 'link': 'https://news.naver.com/main/read.nhn?mode=LSD&mid=sec&sid1=105&oid=015&aid=0003088575', 'description': \"국내 최초 <b>빅데이터</b> 동아리 <b>BOAZ</b>는 서울, 경기지역 25개 대학교의 대학생들로 <b>데이터</b> 분석기법과 <b>데이터</b> 시각화, <b>데이터</b>에 기반 한 아이디어 발표 제안 등의 활동을 활발하게 하고 있다. '프로젝트 세부 정보' 이들... \", 'pubDate': 'Fri, 23 May 2014 11:33:00 +0900'}]}\n"
     ]
    }
   ],
   "source": [
    "# 별도 json.loads() 라이브러리 메서드 사용하지 않아도, reqeusts 라이브러리에 있는 json() 메서드로 간단히 처리 가능함\n",
    "print(response.json())\n",
    "# print(response.text)"
   ]
  },
  {
   "cell_type": "code",
   "execution_count": 22,
   "metadata": {},
   "outputs": [
    {
     "name": "stdout",
     "output_type": "stream",
     "text": [
      "서울시, 5개 실행 공약 17일까지 시민 아이디어 공모\n",
      "<b>데이터</b>를 정제하고 분석하는 작업에는 <b>빅데이터</b> 연합 동아리(<b>BOAZ</b>)가 참여하는 등 시민사회와 함께 과제를 발굴하고, 민·관·학 협업으로 프로젝트를 수행했다. 분석 결과는 종로의 자전거 차로 설치와 자전거... \n"
     ]
    }
   ],
   "source": [
    "# HTTP 응답 코드는 status_code 에 저장됨\n",
    "# 성공할 시, 코드 200을 의미함\n",
    "if(response.status_code == 200):\n",
    "    data = response.json()\n",
    "    print(data['items'][0]['title'])\n",
    "    print(data['items'][0]['description'])\n",
    "else:\n",
    "    print(\"Error Code:\" + str(response.status_code))"
   ]
  }
 ],
 "metadata": {
  "kernelspec": {
   "display_name": "Python 3",
   "language": "python",
   "name": "python3"
  },
  "language_info": {
   "codemirror_mode": {
    "name": "ipython",
    "version": 3
   },
   "file_extension": ".py",
   "mimetype": "text/x-python",
   "name": "python",
   "nbconvert_exporter": "python",
   "pygments_lexer": "ipython3",
   "version": "3.6.5"
  }
 },
 "nbformat": 4,
 "nbformat_minor": 2
}
